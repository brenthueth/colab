{
  "nbformat": 4,
  "nbformat_minor": 0,
  "metadata": {
    "kernelspec": {
      "display_name": "Anaconda (base)",
      "language": "python",
      "name": "anaconda-base"
    },
    "language_info": {
      "codemirror_mode": {
        "name": "ipython",
        "version": 3
      },
      "file_extension": ".py",
      "mimetype": "text/x-python",
      "name": "python",
      "nbconvert_exporter": "python",
      "pygments_lexer": "ipython3",
      "version": "3.8.5"
    },
    "colab": {
      "name": "State Census Graphs.ipynb",
      "provenance": [],
      "collapsed_sections": [],
      "include_colab_link": true
    }
  },
  "cells": [
    {
      "cell_type": "markdown",
      "metadata": {
        "id": "view-in-github",
        "colab_type": "text"
      },
      "source": [
        "<a href=\"https://colab.research.google.com/github/brenthueth/colab/blob/main/afbd-census-cbp.ipynb\" target=\"_parent\"><img src=\"https://colab.research.google.com/assets/colab-badge.svg\" alt=\"Open In Colab\"/></a>"
      ]
    },
    {
      "cell_type": "code",
      "metadata": {
        "id": "zSUGvWYIqRfR"
      },
      "source": [
        "import pandas as pd\n",
        "import matplotlib.pyplot as plt\n",
        "import requests\n",
        "from downcast import reduce  #pip install downcast"
      ],
      "execution_count": null,
      "outputs": []
    },
    {
      "cell_type": "markdown",
      "metadata": {
        "id": "Y9z2DjYgqRfS"
      },
      "source": [
        "Create a function to enable us to download the Excel file directly from the census website"
      ]
    },
    {
      "cell_type": "code",
      "metadata": {
        "id": "UsR83MJ6qRfT"
      },
      "source": [
        "def download_file(url):\n",
        "    local_filename = url.split('/')[-1]\n",
        "    \n",
        "    with requests.get(url) as r:\n",
        "            with open(local_filename, 'wb') as f:  #wb = write binary\n",
        "                f.write(r.content)\n",
        "                \n",
        "    return local_filename"
      ],
      "execution_count": null,
      "outputs": []
    },
    {
      "cell_type": "markdown",
      "metadata": {
        "id": "ms-ZF4j6qRfT"
      },
      "source": [
        "Create the two lists of years necessary for populating the list of urls, then use those to create the list of urls."
      ]
    },
    {
      "cell_type": "code",
      "metadata": {
        "id": "16RhcMH1qRfU"
      },
      "source": [
        "#choose the start and end years of the desired data (between 1986 and 2019)\n",
        "start_year = 1986\n",
        "end_year = 2019\n",
        "\n",
        "yr_full = [i for i in range(start_year, end_year)] #create the list of years of data (i.e., '1986', '1987', ..., '2018')\n",
        "yr_part = []\n",
        "for i in yr_full: #create the list of partial years of data (i.e., '86', '87', ..., '18')\n",
        "    s = str(i)\n",
        "    x = str(s[-2]+s[-1])\n",
        "    yr_part.append(x)\n",
        "\n",
        "urls = []\n",
        "for i, x in enumerate(yr_full):  #create list of full urls\n",
        "    st_txt_url = 'https://www2.census.gov/programs-surveys/cbp/datasets/{}/cbp{}st.zip'.format(yr_full[i],yr_part[i])\n",
        "    urls.append(st_txt_url)\n",
        "# urls"
      ],
      "execution_count": null,
      "outputs": []
    },
    {
      "cell_type": "markdown",
      "metadata": {
        "id": "umI88tZJqRfU"
      },
      "source": [
        "Download all of the desired data from the census website and create datasets"
      ]
    },
    {
      "cell_type": "code",
      "metadata": {
        "id": "ckWnzCjxqRfU"
      },
      "source": [
        "d = {}\n",
        "for i in range(len(yr_part)):\n",
        "    d[\"x{0}\".format(yr_part[i])] = urls[i]\n",
        "\n",
        "for k, v in d.items():\n",
        "    d[k] = download_file(v)\n",
        "    d[k] = pd.read_csv(v)\n",
        "    d[k] = reduce(d[k]) #make the file sizes smaller"
      ],
      "execution_count": null,
      "outputs": []
    },
    {
      "cell_type": "markdown",
      "metadata": {
        "id": "PCjb9t0TP7Rf"
      },
      "source": [
        "Add a column, 'year' and populate the dataframes with their respective years"
      ]
    },
    {
      "cell_type": "code",
      "metadata": {
        "id": "nafrKPpaPbyG"
      },
      "source": [
        "for k,v in d.items():\n",
        "    vars()[k] = v\n",
        "\n",
        "for k,i in zip(d, range(len(yr_full))):\n",
        "    d[k].columns = d[k].columns.str.lower() #make sure all column names are lowercase\n",
        "    d[k]['year'] = yr_full[i]"
      ],
      "execution_count": null,
      "outputs": []
    },
    {
      "cell_type": "markdown",
      "metadata": {
        "id": "d_h9qaDqqRfZ"
      },
      "source": [
        "Add all the years into one dataset"
      ]
    },
    {
      "cell_type": "code",
      "metadata": {
        "id": "cELp929QqRfa"
      },
      "source": [
        "cbp_st = pd.concat(d, ignore_index=True)\n",
        "cbp_st = cbp_st[['fipstate', 'emp', 'est', 'sic', 'naics', 'lfo', 'year']]"
      ],
      "execution_count": null,
      "outputs": []
    },
    {
      "cell_type": "code",
      "metadata": {
        "id": "NG_O4FRjqRfa"
      },
      "source": [
        "cbp_IA = cbp_st[cbp_st['fipstate']==19]\n",
        "\n",
        "# pd.set_option('display.max_rows', None) #prevents truncation of dataframe printout\n",
        "# cbp_IA"
      ],
      "execution_count": null,
      "outputs": []
    },
    {
      "cell_type": "markdown",
      "metadata": {
        "id": "sGStjnaqqRfa"
      },
      "source": [
        "Make new dataset that only grabs the totals (note fipstate==19 is IOWA)"
      ]
    },
    {
      "cell_type": "code",
      "metadata": {
        "id": "t8P1q_vzqRfa"
      },
      "source": [
        "# cbpIA1 = cbp_IA[cbp_IA['sic'] == '----']\n",
        "# cbpIA2 = cbp_IA[(cbp_IA['naics'] == '------') & (cbp_IA['year'].isin(['1998','1999','2000','2001','2002','2003','2004','2005','2006','2007','2008']))]\n",
        "# cbpIA3 = cbp_IA[(cbp_IA['naics'] == '------') & (cbp_IA['lfo'] == '-')]\n",
        "cbpIA = cbp_IA[(cbp_IA['naics'] == '------') & (cbp_IA['lfo'] == '-') & (cbp_IA['year'].isin(['2010','2011','2012','2013','2014','2015','2016','2017','2018']))]"
      ],
      "execution_count": null,
      "outputs": []
    },
    {
      "cell_type": "code",
      "metadata": {
        "id": "q2nF7La7qRfa"
      },
      "source": [
        "# cbpIA = pd.concat([cbpIA1, cbpIA2, cbpIA3])"
      ],
      "execution_count": null,
      "outputs": []
    },
    {
      "cell_type": "code",
      "metadata": {
        "id": "xQEXcMdqqRfb",
        "colab": {
          "base_uri": "https://localhost:8080/",
          "height": 314
        },
        "outputId": "4a89e46e-7baf-4842-d258-5d8d134e32f4"
      },
      "source": [
        "cbpIA"
      ],
      "execution_count": null,
      "outputs": [
        {
          "output_type": "execute_result",
          "data": {
            "text/html": [
              "<div>\n",
              "<style scoped>\n",
              "    .dataframe tbody tr th:only-of-type {\n",
              "        vertical-align: middle;\n",
              "    }\n",
              "\n",
              "    .dataframe tbody tr th {\n",
              "        vertical-align: top;\n",
              "    }\n",
              "\n",
              "    .dataframe thead th {\n",
              "        text-align: right;\n",
              "    }\n",
              "</style>\n",
              "<table border=\"1\" class=\"dataframe\">\n",
              "  <thead>\n",
              "    <tr style=\"text-align: right;\">\n",
              "      <th></th>\n",
              "      <th>fipstate</th>\n",
              "      <th>emp</th>\n",
              "      <th>est</th>\n",
              "      <th>naics</th>\n",
              "      <th>lfo</th>\n",
              "      <th>year</th>\n",
              "    </tr>\n",
              "  </thead>\n",
              "  <tbody>\n",
              "    <tr>\n",
              "      <th>132660</th>\n",
              "      <td>19</td>\n",
              "      <td>1253095</td>\n",
              "      <td>80801</td>\n",
              "      <td>------</td>\n",
              "      <td>-</td>\n",
              "      <td>2010</td>\n",
              "    </tr>\n",
              "    <tr>\n",
              "      <th>588611</th>\n",
              "      <td>19</td>\n",
              "      <td>1263665</td>\n",
              "      <td>80113</td>\n",
              "      <td>------</td>\n",
              "      <td>-</td>\n",
              "      <td>2011</td>\n",
              "    </tr>\n",
              "    <tr>\n",
              "      <th>1040864</th>\n",
              "      <td>19</td>\n",
              "      <td>1293694</td>\n",
              "      <td>80649</td>\n",
              "      <td>------</td>\n",
              "      <td>-</td>\n",
              "      <td>2012</td>\n",
              "    </tr>\n",
              "    <tr>\n",
              "      <th>1486387</th>\n",
              "      <td>19</td>\n",
              "      <td>1305216</td>\n",
              "      <td>80581</td>\n",
              "      <td>------</td>\n",
              "      <td>-</td>\n",
              "      <td>2013</td>\n",
              "    </tr>\n",
              "    <tr>\n",
              "      <th>1932697</th>\n",
              "      <td>19</td>\n",
              "      <td>1316447</td>\n",
              "      <td>80466</td>\n",
              "      <td>------</td>\n",
              "      <td>-</td>\n",
              "      <td>2014</td>\n",
              "    </tr>\n",
              "    <tr>\n",
              "      <th>2380790</th>\n",
              "      <td>19</td>\n",
              "      <td>1338418</td>\n",
              "      <td>80952</td>\n",
              "      <td>------</td>\n",
              "      <td>-</td>\n",
              "      <td>2015</td>\n",
              "    </tr>\n",
              "    <tr>\n",
              "      <th>2829367</th>\n",
              "      <td>19</td>\n",
              "      <td>1354487</td>\n",
              "      <td>81563</td>\n",
              "      <td>------</td>\n",
              "      <td>-</td>\n",
              "      <td>2016</td>\n",
              "    </tr>\n",
              "    <tr>\n",
              "      <th>3249197</th>\n",
              "      <td>19</td>\n",
              "      <td>1353681</td>\n",
              "      <td>82685</td>\n",
              "      <td>------</td>\n",
              "      <td>-</td>\n",
              "      <td>2017</td>\n",
              "    </tr>\n",
              "    <tr>\n",
              "      <th>3597308</th>\n",
              "      <td>19</td>\n",
              "      <td>1364250</td>\n",
              "      <td>82894</td>\n",
              "      <td>------</td>\n",
              "      <td>-</td>\n",
              "      <td>2018</td>\n",
              "    </tr>\n",
              "  </tbody>\n",
              "</table>\n",
              "</div>"
            ],
            "text/plain": [
              "         fipstate      emp    est   naics lfo  year\n",
              "132660         19  1253095  80801  ------   -  2010\n",
              "588611         19  1263665  80113  ------   -  2011\n",
              "1040864        19  1293694  80649  ------   -  2012\n",
              "1486387        19  1305216  80581  ------   -  2013\n",
              "1932697        19  1316447  80466  ------   -  2014\n",
              "2380790        19  1338418  80952  ------   -  2015\n",
              "2829367        19  1354487  81563  ------   -  2016\n",
              "3249197        19  1353681  82685  ------   -  2017\n",
              "3597308        19  1364250  82894  ------   -  2018"
            ]
          },
          "metadata": {
            "tags": []
          },
          "execution_count": 17
        }
      ]
    },
    {
      "cell_type": "code",
      "metadata": {
        "id": "oj3ki_AOqRfb",
        "colab": {
          "base_uri": "https://localhost:8080/",
          "height": 295
        },
        "outputId": "65e6e3d3-fec4-4e94-9002-422f770f782b"
      },
      "source": [
        "cbpIA.plot('year', 'emp') \n",
        "plt.title('Total Employees')\n",
        "plt.xlabel('Year')\n",
        "plt.ylabel('Total Employees')\n",
        "plt.show()"
      ],
      "execution_count": null,
      "outputs": [
        {
          "output_type": "display_data",
          "data": {
            "image/png": "[encoded data removed]",
            "text/plain": [
              "<Figure size 432x288 with 1 Axes>"
            ]
          },
          "metadata": {
            "tags": [],
            "needs_background": "light"
          }
        }
      ]
    },
    {
      "cell_type": "code",
      "metadata": {
        "id": "O9yKwP2xqRfb",
        "colab": {
          "base_uri": "https://localhost:8080/",
          "height": 295
        },
        "outputId": "bf6a97c4-2d77-4f65-e812-2b6b49be27a2"
      },
      "source": [
        "cbpIA.plot('year', 'est') \n",
        "plt.title('Total Number of Establishments')\n",
        "plt.xlabel('Year')\n",
        "plt.ylabel('Total Number of Establishments')\n",
        "plt.show()"
      ],
      "execution_count": null,
      "outputs": [
        {
          "output_type": "display_data",
          "data": {
            "image/png": "[encoded data removed]",
            "text/plain": [
              "<Figure size 432x288 with 1 Axes>"
            ]
          },
          "metadata": {
            "tags": [],
            "needs_background": "light"
          }
        }
      ]
    },
    {
      "cell_type": "code",
      "metadata": {
        "id": "-ZOmgYiZ19n3"
      },
      "source": [
        ""
      ],
      "execution_count": null,
      "outputs": []
    }
  ]
}